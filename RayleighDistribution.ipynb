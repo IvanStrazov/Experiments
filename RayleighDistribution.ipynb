{
 "cells": [
  {
   "cell_type": "markdown",
   "metadata": {},
   "source": [
    "# Я ебал нормальное распределение, пошло оно в пиздень"
   ]
  },
  {
   "cell_type": "markdown",
   "metadata": {},
   "source": [
    "# Распределение Релэя"
   ]
  },
  {
   "cell_type": "code",
   "execution_count": 91,
   "metadata": {},
   "outputs": [],
   "source": [
    "import numpy as np\n",
    "import torch\n",
    "import matplotlib.pyplot as plt\n",
    "%matplotlib inline\n",
    "import seaborn as sns\n",
    "from tqdm import tqdm"
   ]
  },
  {
   "cell_type": "markdown",
   "metadata": {},
   "source": [
    "# CDF: $1 - e^{-\\frac{x^2}{2\\sigma^2}}$"
   ]
  },
  {
   "cell_type": "code",
   "execution_count": 4,
   "metadata": {},
   "outputs": [
    {
     "data": {
      "text/plain": [
       "array([5.68578342, 1.2304852 , 4.03550726, 2.26059891, 4.07225986])"
      ]
     },
     "execution_count": 4,
     "metadata": {},
     "output_type": "execute_result"
    }
   ],
   "source": [
    "np.random.rayleigh(2, 5)"
   ]
  },
  {
   "cell_type": "code",
   "execution_count": 75,
   "metadata": {},
   "outputs": [],
   "source": [
    "del x"
   ]
  },
  {
   "cell_type": "code",
   "execution_count": 165,
   "metadata": {},
   "outputs": [],
   "source": [
    "n,m = 12,1000\n",
    "m_test = 200\n",
    "\n",
    "# Train\n",
    "X_train = np.random.rayleigh(np.random.rand(1)*100, n)\n",
    "X_train.sort()\n",
    "X_train = [X_train]\n",
    "for _ in range(m-1):\n",
    "    x = np.random.rayleigh(np.random.rand(1)*100, n)\n",
    "    x.sort()\n",
    "    x = [x]\n",
    "    X_train = np.append(X_train, x, axis=0)\n",
    "X_train = torch.Tensor(X_train)    \n",
    "\n",
    "y_train = torch.Tensor([[_/n for _ in range(1,(n+1))] for j in range(m)])\n",
    "\n",
    "# Test\n",
    "X_test = np.random.rayleigh(np.random.rand(1)*100, n)\n",
    "X_test.sort()\n",
    "X_test = [X_test]\n",
    "for _ in range(m_test-1):\n",
    "    x = np.random.rayleigh(np.random.rand(1)*100, n)\n",
    "    x.sort()\n",
    "    x = [x]\n",
    "    X_test = np.append(X_test, x, axis=0)\n",
    "X_test = torch.Tensor(X_test)\n",
    "    \n",
    "y_test = torch.Tensor([[_/n for _ in range(1,(n+1))] for j in range(m_test)])"
   ]
  },
  {
   "cell_type": "code",
   "execution_count": 181,
   "metadata": {},
   "outputs": [
    {
     "data": {
      "text/plain": [
       "tensor([  7.4706,  48.6477,  56.1582,  77.2318,  78.2408,  79.0046,  81.5424,\n",
       "        122.3908, 130.0199, 143.5768, 187.8070, 206.9867])"
      ]
     },
     "execution_count": 181,
     "metadata": {},
     "output_type": "execute_result"
    }
   ],
   "source": [
    "X_test[0]"
   ]
  },
  {
   "cell_type": "code",
   "execution_count": 182,
   "metadata": {},
   "outputs": [
    {
     "data": {
      "text/plain": [
       "tensor([0.0833, 0.1667, 0.2500, 0.3333, 0.4167, 0.5000, 0.5833, 0.6667, 0.7500,\n",
       "        0.8333, 0.9167, 1.0000])"
      ]
     },
     "execution_count": 182,
     "metadata": {},
     "output_type": "execute_result"
    }
   ],
   "source": [
    "y_test[0]"
   ]
  },
  {
   "cell_type": "code",
   "execution_count": 183,
   "metadata": {},
   "outputs": [],
   "source": [
    "class NormalNet(torch.nn.Module):\n",
    "    def __init__(self, n_input, n_layer):\n",
    "        super(NormalNet, self).__init__()\n",
    "        self.fc1 = torch.nn.Linear(n_input, n_layer)\n",
    "        self.act1 = torch.nn.ReLU()\n",
    "        self.fc2 = torch.nn.Linear(n_layer, 1)\n",
    "        \n",
    "    def forward(self, x0):\n",
    "        x = self.fc1(x0)\n",
    "        x = self.act1(x)\n",
    "        x = self.fc2(x)\n",
    "        \n",
    "        return (1 - (-x0**2/(2*x**2)).exp())\n",
    "\n",
    "normal_net = NormalNet(n, 500)\n",
    "\n",
    "def loss(pred, target):\n",
    "    squares = (pred - target) ** 2\n",
    "    return squares.sum()\n",
    "\n",
    "optimizer = torch.optim.Adam(normal_net.parameters(), lr=0.01)"
   ]
  },
  {
   "cell_type": "code",
   "execution_count": 184,
   "metadata": {},
   "outputs": [
    {
     "name": "stdout",
     "output_type": "stream",
     "text": [
      "Start loss: tensor(-2.3437, grad_fn=<RsubBackward1>)\n",
      "Epoch 0 tensor(-2.3437, grad_fn=<RsubBackward1>)\n",
      "Epoch 500 tensor(0.9338, grad_fn=<RsubBackward1>)\n",
      "Epoch 1000 tensor(0.9340, grad_fn=<RsubBackward1>)\n",
      "Epoch 1500 tensor(0.9340, grad_fn=<RsubBackward1>)\n",
      "Epoch 2000 tensor(0.9340, grad_fn=<RsubBackward1>)\n",
      "Epoch 2500 tensor(0.9335, grad_fn=<RsubBackward1>)\n",
      "Epoch 3000 tensor(0.9330, grad_fn=<RsubBackward1>)\n",
      "Epoch 3500 tensor(0.9340, grad_fn=<RsubBackward1>)\n",
      "Epoch 4000 tensor(0.9340, grad_fn=<RsubBackward1>)\n",
      "Epoch 4500 tensor(0.9340, grad_fn=<RsubBackward1>)\n",
      "Epoch 5000 tensor(0.9335, grad_fn=<RsubBackward1>)\n",
      "Epoch 5500 tensor(0.9340, grad_fn=<RsubBackward1>)\n",
      "Epoch 6000 tensor(0.9339, grad_fn=<RsubBackward1>)\n",
      "Epoch 6500 tensor(0.9336, grad_fn=<RsubBackward1>)\n",
      "Epoch 7000 tensor(0.9340, grad_fn=<RsubBackward1>)\n",
      "Epoch 7500 tensor(0.9340, grad_fn=<RsubBackward1>)\n",
      "Epoch 8000 tensor(0.9340, grad_fn=<RsubBackward1>)\n",
      "Epoch 8500 tensor(0.9341, grad_fn=<RsubBackward1>)\n",
      "Epoch 9000 tensor(0.9336, grad_fn=<RsubBackward1>)\n",
      "Epoch 9500 tensor(0.9340, grad_fn=<RsubBackward1>)\n",
      "Finish loss: tensor(0.9339, grad_fn=<RsubBackward1>)\n"
     ]
    }
   ],
   "source": [
    "print('Start loss:', 1-((normal_net.forward(X_test) - y_test)**2).sum() / ((y_test - y_test.mean())**2).sum())\n",
    "\n",
    "for epoch_index in range(10000):\n",
    "    optimizer.zero_grad()\n",
    "\n",
    "    y_pred = normal_net.forward(X_train)\n",
    "    loss_val = loss(y_pred, y_train)\n",
    "    \n",
    "    if epoch_index % 500 == 0:\n",
    "        print('Epoch %i' % epoch_index, 1-((normal_net.forward(X_test) - y_test)**2).sum() / ((y_test - y_test.mean())**2).sum())\n",
    "\n",
    "    loss_val.backward()\n",
    "\n",
    "    optimizer.step()\n",
    "\n",
    "print('Finish loss:', 1-((normal_net.forward(X_test) - y_test)**2).sum() / ((y_test - y_test.mean())**2).sum())"
   ]
  },
  {
   "cell_type": "code",
   "execution_count": 180,
   "metadata": {},
   "outputs": [
    {
     "data": {
      "text/plain": [
       "tensor(0.9335, grad_fn=<RsubBackward1>)"
      ]
     },
     "execution_count": 180,
     "metadata": {},
     "output_type": "execute_result"
    }
   ],
   "source": [
    "1-((normal_net.forward(X_train) - y_train)**2).sum() / ((y_train - y_train.mean())**2).sum()"
   ]
  },
  {
   "cell_type": "code",
   "execution_count": 170,
   "metadata": {},
   "outputs": [
    {
     "data": {
      "text/plain": [
       "tensor(13.1632, grad_fn=<SumBackward0>)"
      ]
     },
     "execution_count": 170,
     "metadata": {},
     "output_type": "execute_result"
    }
   ],
   "source": [
    "((normal_net.forward(X_test) - y_test)**2).sum()"
   ]
  },
  {
   "cell_type": "code",
   "execution_count": null,
   "metadata": {},
   "outputs": [],
   "source": []
  },
  {
   "cell_type": "code",
   "execution_count": null,
   "metadata": {},
   "outputs": [],
   "source": []
  },
  {
   "cell_type": "code",
   "execution_count": null,
   "metadata": {},
   "outputs": [],
   "source": []
  },
  {
   "cell_type": "code",
   "execution_count": null,
   "metadata": {},
   "outputs": [],
   "source": []
  },
  {
   "cell_type": "code",
   "execution_count": null,
   "metadata": {},
   "outputs": [],
   "source": []
  },
  {
   "cell_type": "code",
   "execution_count": null,
   "metadata": {},
   "outputs": [],
   "source": []
  }
 ],
 "metadata": {
  "kernelspec": {
   "display_name": "Python 3",
   "language": "python",
   "name": "python3"
  },
  "language_info": {
   "codemirror_mode": {
    "name": "ipython",
    "version": 3
   },
   "file_extension": ".py",
   "mimetype": "text/x-python",
   "name": "python",
   "nbconvert_exporter": "python",
   "pygments_lexer": "ipython3",
   "version": "3.7.3"
  }
 },
 "nbformat": 4,
 "nbformat_minor": 4
}
