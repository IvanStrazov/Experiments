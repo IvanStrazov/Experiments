{
 "cells": [
  {
   "cell_type": "markdown",
   "metadata": {},
   "source": [
    "Работа с геокодером: http://espressocode.top/python-reverse-geocoding-to-get-location-on-a-map-using-geographic-coordinates/\n",
    "\n",
    "Документация геокодера: https://pypi.org/project/reverse_geocoder/\n",
    "\n",
    "Координаты по адресу: https://nuancesprog-ru.turbopages.org/s/nuancesprog.ru/p/6794/\n",
    "\n",
    "Работа с индексами: https://habr.com/ru/post/190122/\n",
    "\n",
    "База индексов РФ: https://vinfo.russianpost.ru/database/ops.html"
   ]
  },
  {
   "cell_type": "code",
   "execution_count": 27,
   "metadata": {},
   "outputs": [],
   "source": [
    "from pprint import pprint"
   ]
  },
  {
   "cell_type": "markdown",
   "metadata": {},
   "source": [
    " "
   ]
  },
  {
   "cell_type": "markdown",
   "metadata": {},
   "source": [
    " "
   ]
  },
  {
   "cell_type": "markdown",
   "metadata": {},
   "source": [
    "# Регион по координатам"
   ]
  },
  {
   "cell_type": "code",
   "execution_count": 36,
   "metadata": {},
   "outputs": [],
   "source": [
    "import reverse_geocoder as rg\n",
    "\n",
    "def coordinates2region(coordinates):\n",
    "    \"\"\"\n",
    "    Transform coordinates to region.\n",
    "    \n",
    "    :coordinates: (tuple) (longitude, latitude)\n",
    "    \"\"\"\n",
    "\n",
    "    result = rg.search(coordinates)[0]\n",
    "    pprint(dict(result)) "
   ]
  },
  {
   "cell_type": "code",
   "execution_count": 37,
   "metadata": {},
   "outputs": [
    {
     "name": "stdout",
     "output_type": "stream",
     "text": [
      "{'admin1': 'St.-Petersburg',\n",
      " 'admin2': '',\n",
      " 'cc': 'RU',\n",
      " 'lat': '59.85278',\n",
      " 'lon': '30.35667',\n",
      " 'name': 'Kupchino'}\n"
     ]
    }
   ],
   "source": [
    "coordinates = (59.856649, 30.3105512)\n",
    "coordinates2region(coordinates) "
   ]
  },
  {
   "cell_type": "code",
   "execution_count": 38,
   "metadata": {},
   "outputs": [
    {
     "name": "stdout",
     "output_type": "stream",
     "text": [
      "{'admin1': 'Primorskiy',\n",
      " 'admin2': '',\n",
      " 'cc': 'RU',\n",
      " 'lat': '43.10562',\n",
      " 'lon': '131.87353',\n",
      " 'name': 'Vladivostok'}\n"
     ]
    }
   ],
   "source": [
    "coordinates = (43.127199, 131.926490)\n",
    "coordinates2region(coordinates) "
   ]
  },
  {
   "cell_type": "markdown",
   "metadata": {},
   "source": [
    " "
   ]
  },
  {
   "cell_type": "markdown",
   "metadata": {},
   "source": [
    " "
   ]
  },
  {
   "cell_type": "markdown",
   "metadata": {},
   "source": [
    " "
   ]
  },
  {
   "cell_type": "markdown",
   "metadata": {},
   "source": [
    " "
   ]
  },
  {
   "cell_type": "markdown",
   "metadata": {},
   "source": [
    " "
   ]
  },
  {
   "cell_type": "markdown",
   "metadata": {},
   "source": [
    "# Координаты по адресу"
   ]
  },
  {
   "cell_type": "code",
   "execution_count": 35,
   "metadata": {},
   "outputs": [],
   "source": [
    "from geopy.geocoders import Nominatim"
   ]
  },
  {
   "cell_type": "code",
   "execution_count": 28,
   "metadata": {},
   "outputs": [
    {
     "name": "stdout",
     "output_type": "stream",
     "text": [
      "Адрес: Санкт-Петербург, Ленинский проспект, округ Княжево, Кировский район, Санкт-Петербург, Северо-Западный федеральный округ, 190000, Россия\n",
      "\n",
      "Координаты: 59.851514, 30.2631861\n",
      "\n",
      "{'boundingbox': ['59.851464', '59.851564', '30.2631361', '30.2632361'],\n",
      " 'class': 'amenity',\n",
      " 'display_name': 'Санкт-Петербург, Ленинский проспект, округ Княжево, '\n",
      "                 'Кировский район, Санкт-Петербург, Северо-Западный '\n",
      "                 'федеральный округ, 190000, Россия',\n",
      " 'icon': 'https://nominatim.openstreetmap.org/images/mapicons/money_bank2.p.20.png',\n",
      " 'importance': 0.30100000000000005,\n",
      " 'lat': '59.851514',\n",
      " 'licence': 'Data © OpenStreetMap contributors, ODbL 1.0. '\n",
      "            'https://osm.org/copyright',\n",
      " 'lon': '30.2631861',\n",
      " 'osm_id': 4521404192,\n",
      " 'osm_type': 'node',\n",
      " 'place_id': 55643902,\n",
      " 'type': 'bank'}\n"
     ]
    }
   ],
   "source": [
    "geolocator = Nominatim(user_agent=\"my-application\")\n",
    "location = geolocator.geocode(\"Санкт-Петербург, Ленинский 101\")\n",
    "print(f\"Адрес: {location.address}\\n\")\n",
    "print(f\"Координаты: {location.latitude}, {location.longitude}\\n\")\n",
    "pprint(location.raw)"
   ]
  },
  {
   "cell_type": "code",
   "execution_count": 40,
   "metadata": {},
   "outputs": [],
   "source": [
    "from geopy.geocoders import Nominatim\n",
    "\n",
    "def address2coordinates(address):\n",
    "    \"\"\"\n",
    "    Transform address to coordinates\n",
    "    \"\"\"\n",
    "    \n",
    "    geolocator = Nominatim(user_agent=\"my-application\")\n",
    "    location = geolocator.geocode(address)\n",
    "    \n",
    "    return (location.latitude, location.longitude)"
   ]
  },
  {
   "cell_type": "code",
   "execution_count": 41,
   "metadata": {},
   "outputs": [
    {
     "data": {
      "text/plain": [
       "(59.851514, 30.2631861)"
      ]
     },
     "execution_count": 41,
     "metadata": {},
     "output_type": "execute_result"
    }
   ],
   "source": [
    "address = \"Санкт-Петербург, Ленинский 101\"\n",
    "address2coordinates(address)"
   ]
  }
 ],
 "metadata": {
  "kernelspec": {
   "display_name": "Python 3",
   "language": "python",
   "name": "python3"
  },
  "language_info": {
   "codemirror_mode": {
    "name": "ipython",
    "version": 3
   },
   "file_extension": ".py",
   "mimetype": "text/x-python",
   "name": "python",
   "nbconvert_exporter": "python",
   "pygments_lexer": "ipython3",
   "version": "3.7.6"
  }
 },
 "nbformat": 4,
 "nbformat_minor": 4
}
